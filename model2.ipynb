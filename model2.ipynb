{
 "cells": [
  {
   "cell_type": "code",
   "execution_count": 1,
   "id": "dccbeeac",
   "metadata": {},
   "outputs": [],
   "source": [
    "import pandas as pd\n",
    "import numpy as np\n",
    "import matplotlib.pyplot as plt\n",
    "import seaborn as sns\n",
    "import plotly.express as px\n",
    "import plotly.graph_objects as go\n",
    "%matplotlib inline\n",
    "from sklearn import preprocessing"
   ]
  },
  {
   "cell_type": "code",
   "execution_count": 2,
   "id": "9787cbff",
   "metadata": {},
   "outputs": [],
   "source": [
    "data=pd.read_excel(\"Data.xlsx\")"
   ]
  },
  {
   "cell_type": "code",
   "execution_count": 41,
   "id": "4ee0c441",
   "metadata": {},
   "outputs": [
    {
     "name": "stdout",
     "output_type": "stream",
     "text": [
      "<class 'pandas.core.frame.DataFrame'>\n",
      "RangeIndex: 15267 entries, 0 to 15266\n",
      "Data columns (total 29 columns):\n",
      " #   Column                                                                    Non-Null Count  Dtype  \n",
      "---  ------                                                                    --------------  -----  \n",
      " 0   career                                                                    15267 non-null  int32  \n",
      " 1   gravidity times                                                           15267 non-null  int32  \n",
      " 2   parity                                                                    15267 non-null  int32  \n",
      " 3   weight gain（kg）                                                           15267 non-null  float64\n",
      " 4   macrosomia history                                                        15267 non-null  int32  \n",
      " 5   spontaneous abortion history                                              15267 non-null  int32  \n",
      " 6   therapeutic induced labor because of stillbirth or birth defects history  15267 non-null  int32  \n",
      " 7   educational level                                                         15267 non-null  int32  \n",
      " 8   residence                                                                 15267 non-null  int32  \n",
      " 9   family history of diabetes mellitus                                       15267 non-null  int32  \n",
      " 10  height（cm）                                                                15267 non-null  float64\n",
      " 11  weight before labor（kg）                                                   15267 non-null  float64\n",
      " 12  GDM history                                                               15267 non-null  int32  \n",
      " 13  GDM                                                                       15267 non-null  object \n",
      " 14  twin pregnancy                                                            15267 non-null  object \n",
      " 15  chronic hypertension                                                      15267 non-null  object \n",
      " 16  DM                                                                        15267 non-null  object \n",
      " 17  Pcos                                                                      15267 non-null  object \n",
      " 18  placenta previa                                                           15267 non-null  object \n",
      " 19  scar uterus                                                               15267 non-null  object \n",
      " 20  PTB                                                                       15267 non-null  object \n",
      " 21  labor ways                                                                15267 non-null  object \n",
      " 22  IVF                                                                       15267 non-null  object \n",
      " 23  uterine myoma                                                             15267 non-null  object \n",
      " 24  hypertensive disorders of pregnancy                                       15267 non-null  object \n",
      " 25  Age                                                                       15267 non-null  object \n",
      " 26  pre-pregnancy BMI (kg/m2)                                                 15267 non-null  object \n",
      " 27  BMI when labor (kg/m2)                                                    15267 non-null  object \n",
      " 28  group                                                                     15267 non-null  object \n",
      "dtypes: float64(3), int32(10), object(16)\n",
      "memory usage: 2.8+ MB\n"
     ]
    }
   ],
   "source": [
    "data.info()"
   ]
  },
  {
   "cell_type": "code",
   "execution_count": 79,
   "id": "49bde349",
   "metadata": {},
   "outputs": [
    {
     "data": {
      "text/plain": [
       "array([1, 0, 3, 2])"
      ]
     },
     "execution_count": 79,
     "metadata": {},
     "output_type": "execute_result"
    }
   ],
   "source": [
    "data['BMI when labor (kg/m2)'].unique()"
   ]
  },
  {
   "cell_type": "code",
   "execution_count": 5,
   "id": "8be7e03f",
   "metadata": {},
   "outputs": [],
   "source": [
    "label_encoder=preprocessing.LabelEncoder()"
   ]
  },
  {
   "cell_type": "code",
   "execution_count": 78,
   "id": "91501793",
   "metadata": {},
   "outputs": [],
   "source": [
    "data['BMI when labor (kg/m2)']= label_encoder.fit_transform(data['BMI when labor (kg/m2)'])"
   ]
  },
  {
   "cell_type": "code",
   "execution_count": 63,
   "id": "12fefa35",
   "metadata": {},
   "outputs": [],
   "source": [
    "#data['parity'] = data['parity'].astype('str') "
   ]
  },
  {
   "cell_type": "code",
   "execution_count": 80,
   "id": "9e36b210",
   "metadata": {},
   "outputs": [],
   "source": [
    "data = data.drop(['group'], axis=1)"
   ]
  },
  {
   "cell_type": "code",
   "execution_count": 82,
   "id": "168361b5",
   "metadata": {},
   "outputs": [],
   "source": [
    "data.to_csv(\"encoded_data.csv\")"
   ]
  },
  {
   "cell_type": "code",
   "execution_count": 84,
   "id": "b279e226",
   "metadata": {},
   "outputs": [
    {
     "name": "stdout",
     "output_type": "stream",
     "text": [
      "<class 'pandas.core.frame.DataFrame'>\n",
      "RangeIndex: 15267 entries, 0 to 15266\n",
      "Data columns (total 28 columns):\n",
      " #   Column                                                                    Non-Null Count  Dtype  \n",
      "---  ------                                                                    --------------  -----  \n",
      " 0   career                                                                    15267 non-null  int32  \n",
      " 1   gravidity times                                                           15267 non-null  int32  \n",
      " 2   parity                                                                    15267 non-null  int32  \n",
      " 3   weight gain（kg）                                                           15267 non-null  float64\n",
      " 4   macrosomia history                                                        15267 non-null  int32  \n",
      " 5   spontaneous abortion history                                              15267 non-null  int32  \n",
      " 6   therapeutic induced labor because of stillbirth or birth defects history  15267 non-null  int32  \n",
      " 7   educational level                                                         15267 non-null  int32  \n",
      " 8   residence                                                                 15267 non-null  int32  \n",
      " 9   family history of diabetes mellitus                                       15267 non-null  int32  \n",
      " 10  height（cm）                                                                15267 non-null  float64\n",
      " 11  weight before labor（kg）                                                   15267 non-null  float64\n",
      " 12  GDM history                                                               15267 non-null  int32  \n",
      " 13  GDM                                                                       15267 non-null  int32  \n",
      " 14  twin pregnancy                                                            15267 non-null  int32  \n",
      " 15  chronic hypertension                                                      15267 non-null  int32  \n",
      " 16  DM                                                                        15267 non-null  int32  \n",
      " 17  Pcos                                                                      15267 non-null  int32  \n",
      " 18  placenta previa                                                           15267 non-null  int32  \n",
      " 19  scar uterus                                                               15267 non-null  int32  \n",
      " 20  PTB                                                                       15267 non-null  int32  \n",
      " 21  labor ways                                                                15267 non-null  int32  \n",
      " 22  IVF                                                                       15267 non-null  int32  \n",
      " 23  uterine myoma                                                             15267 non-null  int32  \n",
      " 24  hypertensive disorders of pregnancy                                       15267 non-null  int32  \n",
      " 25  Age                                                                       15267 non-null  int32  \n",
      " 26  pre-pregnancy BMI (kg/m2)                                                 15267 non-null  int32  \n",
      " 27  BMI when labor (kg/m2)                                                    15267 non-null  int32  \n",
      "dtypes: float64(3), int32(25)\n",
      "memory usage: 1.8 MB\n"
     ]
    }
   ],
   "source": [
    "data.info()"
   ]
  },
  {
   "cell_type": "code",
   "execution_count": 85,
   "id": "0387301f",
   "metadata": {},
   "outputs": [],
   "source": [
    "# import pickle\n",
    "# with open('FetalHealthClassificationFinal','wb') as f:\n",
    "#     pickle.dump(model,f)"
   ]
  },
  {
   "cell_type": "code",
   "execution_count": 92,
   "id": "39f6769e",
   "metadata": {},
   "outputs": [],
   "source": [
    "from sklearn.model_selection import train_test_split\n",
    "from sklearn.preprocessing import StandardScaler\n",
    "from sklearn.pipeline import Pipeline\n",
    "\n",
    "from sklearn.linear_model import LogisticRegression\n",
    "from sklearn.tree import DecisionTreeClassifier\n",
    "from sklearn.ensemble import GradientBoostingClassifier\n",
    "from sklearn.ensemble import RandomForestClassifier\n",
    "from sklearn.neighbors import KNeighborsClassifier \n",
    "\n",
    "from sklearn.model_selection import GridSearchCV\n",
    "from sklearn.model_selection import cross_val_score\n",
    "from sklearn.metrics import confusion_matrix, classification_report, accuracy_score\n",
    "from sklearn import metrics\n",
    "from sklearn.metrics import roc_curve, auc, roc_auc_score"
   ]
  },
  {
   "cell_type": "markdown",
   "id": "4903fbf6",
   "metadata": {},
   "source": [
    "# Scaling the Data \n",
    "## Defining independent and dependent attributes in training and test sets"
   ]
  },
  {
   "cell_type": "code",
   "execution_count": 88,
   "id": "6304a6b9",
   "metadata": {},
   "outputs": [],
   "source": [
    "X=data.drop([\"PTB\"],axis=1)\n",
    "y=data[\"PTB\"]"
   ]
  },
  {
   "cell_type": "code",
   "execution_count": 91,
   "id": "29b68208",
   "metadata": {},
   "outputs": [
    {
     "data": {
      "text/plain": [
       "0        0\n",
       "1        0\n",
       "2        0\n",
       "3        0\n",
       "4        0\n",
       "        ..\n",
       "15262    0\n",
       "15263    0\n",
       "15264    0\n",
       "15265    0\n",
       "15266    0\n",
       "Name: PTB, Length: 15267, dtype: int32"
      ]
     },
     "execution_count": 91,
     "metadata": {},
     "output_type": "execute_result"
    }
   ],
   "source": []
  },
  {
   "cell_type": "markdown",
   "id": "15626b5b",
   "metadata": {},
   "source": [
    "## Setting up a standard scaler for the features and analyzing it thereafter"
   ]
  },
  {
   "cell_type": "code",
   "execution_count": 95,
   "id": "b1eedacc",
   "metadata": {},
   "outputs": [
    {
     "data": {
      "text/html": [
       "<div>\n",
       "<style scoped>\n",
       "    .dataframe tbody tr th:only-of-type {\n",
       "        vertical-align: middle;\n",
       "    }\n",
       "\n",
       "    .dataframe tbody tr th {\n",
       "        vertical-align: top;\n",
       "    }\n",
       "\n",
       "    .dataframe thead th {\n",
       "        text-align: right;\n",
       "    }\n",
       "</style>\n",
       "<table border=\"1\" class=\"dataframe\">\n",
       "  <thead>\n",
       "    <tr style=\"text-align: right;\">\n",
       "      <th></th>\n",
       "      <th>count</th>\n",
       "      <th>mean</th>\n",
       "      <th>std</th>\n",
       "      <th>min</th>\n",
       "      <th>25%</th>\n",
       "      <th>50%</th>\n",
       "      <th>75%</th>\n",
       "      <th>max</th>\n",
       "    </tr>\n",
       "  </thead>\n",
       "  <tbody>\n",
       "    <tr>\n",
       "      <th>career</th>\n",
       "      <td>15267.0</td>\n",
       "      <td>-5.927034e-15</td>\n",
       "      <td>1.000033</td>\n",
       "      <td>-2.072956</td>\n",
       "      <td>0.099017</td>\n",
       "      <td>0.099017</td>\n",
       "      <td>0.099017</td>\n",
       "      <td>4.442963</td>\n",
       "    </tr>\n",
       "    <tr>\n",
       "      <th>gravidity times</th>\n",
       "      <td>15267.0</td>\n",
       "      <td>6.400308e-17</td>\n",
       "      <td>1.000033</td>\n",
       "      <td>-1.098609</td>\n",
       "      <td>-1.098609</td>\n",
       "      <td>0.109347</td>\n",
       "      <td>1.317302</td>\n",
       "      <td>1.317302</td>\n",
       "    </tr>\n",
       "    <tr>\n",
       "      <th>parity</th>\n",
       "      <td>15267.0</td>\n",
       "      <td>-1.855586e-15</td>\n",
       "      <td>1.000033</td>\n",
       "      <td>-0.846721</td>\n",
       "      <td>-0.846721</td>\n",
       "      <td>-0.846721</td>\n",
       "      <td>1.181026</td>\n",
       "      <td>1.181026</td>\n",
       "    </tr>\n",
       "    <tr>\n",
       "      <th>weight gain（kg）</th>\n",
       "      <td>15267.0</td>\n",
       "      <td>-1.098842e-15</td>\n",
       "      <td>1.000033</td>\n",
       "      <td>-3.711095</td>\n",
       "      <td>-0.803845</td>\n",
       "      <td>-0.132942</td>\n",
       "      <td>0.426145</td>\n",
       "      <td>28.268651</td>\n",
       "    </tr>\n",
       "    <tr>\n",
       "      <th>macrosomia history</th>\n",
       "      <td>15267.0</td>\n",
       "      <td>-2.116634e-15</td>\n",
       "      <td>1.000033</td>\n",
       "      <td>-0.175068</td>\n",
       "      <td>-0.175068</td>\n",
       "      <td>-0.175068</td>\n",
       "      <td>-0.175068</td>\n",
       "      <td>5.712071</td>\n",
       "    </tr>\n",
       "    <tr>\n",
       "      <th>spontaneous abortion history</th>\n",
       "      <td>15267.0</td>\n",
       "      <td>-7.513113e-16</td>\n",
       "      <td>1.000033</td>\n",
       "      <td>-0.373267</td>\n",
       "      <td>-0.373267</td>\n",
       "      <td>-0.373267</td>\n",
       "      <td>-0.373267</td>\n",
       "      <td>2.679046</td>\n",
       "    </tr>\n",
       "    <tr>\n",
       "      <th>therapeutic induced labor because of stillbirth or birth defects history</th>\n",
       "      <td>15267.0</td>\n",
       "      <td>-1.241623e-15</td>\n",
       "      <td>1.000033</td>\n",
       "      <td>-0.104526</td>\n",
       "      <td>-0.104526</td>\n",
       "      <td>-0.104526</td>\n",
       "      <td>-0.104526</td>\n",
       "      <td>9.566989</td>\n",
       "    </tr>\n",
       "    <tr>\n",
       "      <th>educational level</th>\n",
       "      <td>15267.0</td>\n",
       "      <td>2.421605e-15</td>\n",
       "      <td>1.000033</td>\n",
       "      <td>-2.313351</td>\n",
       "      <td>-0.873859</td>\n",
       "      <td>0.565632</td>\n",
       "      <td>0.565632</td>\n",
       "      <td>0.565632</td>\n",
       "    </tr>\n",
       "    <tr>\n",
       "      <th>residence</th>\n",
       "      <td>15267.0</td>\n",
       "      <td>-7.254766e-15</td>\n",
       "      <td>1.000033</td>\n",
       "      <td>-1.993636</td>\n",
       "      <td>0.501596</td>\n",
       "      <td>0.501596</td>\n",
       "      <td>0.501596</td>\n",
       "      <td>0.501596</td>\n",
       "    </tr>\n",
       "    <tr>\n",
       "      <th>family history of diabetes mellitus</th>\n",
       "      <td>15267.0</td>\n",
       "      <td>-7.583982e-15</td>\n",
       "      <td>1.000033</td>\n",
       "      <td>-0.199966</td>\n",
       "      <td>-0.199966</td>\n",
       "      <td>-0.199966</td>\n",
       "      <td>-0.199966</td>\n",
       "      <td>5.000852</td>\n",
       "    </tr>\n",
       "    <tr>\n",
       "      <th>height（cm）</th>\n",
       "      <td>15267.0</td>\n",
       "      <td>4.116457e-15</td>\n",
       "      <td>1.000033</td>\n",
       "      <td>-5.020197</td>\n",
       "      <td>-0.566259</td>\n",
       "      <td>-0.142074</td>\n",
       "      <td>0.706295</td>\n",
       "      <td>4.311864</td>\n",
       "    </tr>\n",
       "    <tr>\n",
       "      <th>weight before labor（kg）</th>\n",
       "      <td>15267.0</td>\n",
       "      <td>-6.865537e-16</td>\n",
       "      <td>1.000033</td>\n",
       "      <td>-7.719138</td>\n",
       "      <td>-0.676591</td>\n",
       "      <td>-0.108643</td>\n",
       "      <td>0.572894</td>\n",
       "      <td>11.591072</td>\n",
       "    </tr>\n",
       "    <tr>\n",
       "      <th>GDM history</th>\n",
       "      <td>15267.0</td>\n",
       "      <td>-8.971776e-16</td>\n",
       "      <td>1.000033</td>\n",
       "      <td>-0.173872</td>\n",
       "      <td>-0.173872</td>\n",
       "      <td>-0.173872</td>\n",
       "      <td>-0.173872</td>\n",
       "      <td>5.751359</td>\n",
       "    </tr>\n",
       "    <tr>\n",
       "      <th>GDM</th>\n",
       "      <td>15267.0</td>\n",
       "      <td>-4.544781e-15</td>\n",
       "      <td>1.000033</td>\n",
       "      <td>-0.428248</td>\n",
       "      <td>-0.428248</td>\n",
       "      <td>-0.428248</td>\n",
       "      <td>-0.428248</td>\n",
       "      <td>2.335094</td>\n",
       "    </tr>\n",
       "    <tr>\n",
       "      <th>twin pregnancy</th>\n",
       "      <td>15267.0</td>\n",
       "      <td>-1.401952e-15</td>\n",
       "      <td>1.000033</td>\n",
       "      <td>-0.201907</td>\n",
       "      <td>-0.201907</td>\n",
       "      <td>-0.201907</td>\n",
       "      <td>-0.201907</td>\n",
       "      <td>4.952787</td>\n",
       "    </tr>\n",
       "    <tr>\n",
       "      <th>chronic hypertension</th>\n",
       "      <td>15267.0</td>\n",
       "      <td>-1.084205e-15</td>\n",
       "      <td>1.000033</td>\n",
       "      <td>-0.105165</td>\n",
       "      <td>-0.105165</td>\n",
       "      <td>-0.105165</td>\n",
       "      <td>-0.105165</td>\n",
       "      <td>9.508899</td>\n",
       "    </tr>\n",
       "    <tr>\n",
       "      <th>DM</th>\n",
       "      <td>15267.0</td>\n",
       "      <td>6.794226e-16</td>\n",
       "      <td>1.000033</td>\n",
       "      <td>-0.046543</td>\n",
       "      <td>-0.046543</td>\n",
       "      <td>-0.046543</td>\n",
       "      <td>-0.046543</td>\n",
       "      <td>21.485725</td>\n",
       "    </tr>\n",
       "    <tr>\n",
       "      <th>Pcos</th>\n",
       "      <td>15267.0</td>\n",
       "      <td>2.481132e-15</td>\n",
       "      <td>1.000033</td>\n",
       "      <td>-0.050607</td>\n",
       "      <td>-0.050607</td>\n",
       "      <td>-0.050607</td>\n",
       "      <td>-0.050607</td>\n",
       "      <td>19.760100</td>\n",
       "    </tr>\n",
       "    <tr>\n",
       "      <th>placenta previa</th>\n",
       "      <td>15267.0</td>\n",
       "      <td>-1.551582e-15</td>\n",
       "      <td>1.000033</td>\n",
       "      <td>-0.189827</td>\n",
       "      <td>-0.189827</td>\n",
       "      <td>-0.189827</td>\n",
       "      <td>-0.189827</td>\n",
       "      <td>5.267961</td>\n",
       "    </tr>\n",
       "    <tr>\n",
       "      <th>scar uterus</th>\n",
       "      <td>15267.0</td>\n",
       "      <td>-8.410018e-15</td>\n",
       "      <td>1.000033</td>\n",
       "      <td>-0.546393</td>\n",
       "      <td>-0.546393</td>\n",
       "      <td>-0.546393</td>\n",
       "      <td>-0.546393</td>\n",
       "      <td>1.830184</td>\n",
       "    </tr>\n",
       "    <tr>\n",
       "      <th>labor ways</th>\n",
       "      <td>15267.0</td>\n",
       "      <td>4.131830e-16</td>\n",
       "      <td>1.000033</td>\n",
       "      <td>-1.094866</td>\n",
       "      <td>-1.094866</td>\n",
       "      <td>0.955087</td>\n",
       "      <td>0.955087</td>\n",
       "      <td>0.955087</td>\n",
       "    </tr>\n",
       "    <tr>\n",
       "      <th>IVF</th>\n",
       "      <td>15267.0</td>\n",
       "      <td>-1.898313e-15</td>\n",
       "      <td>1.000033</td>\n",
       "      <td>-0.218719</td>\n",
       "      <td>-0.218719</td>\n",
       "      <td>-0.218719</td>\n",
       "      <td>-0.218719</td>\n",
       "      <td>4.572075</td>\n",
       "    </tr>\n",
       "    <tr>\n",
       "      <th>uterine myoma</th>\n",
       "      <td>15267.0</td>\n",
       "      <td>-1.882041e-16</td>\n",
       "      <td>1.000033</td>\n",
       "      <td>-0.227933</td>\n",
       "      <td>-0.227933</td>\n",
       "      <td>-0.227933</td>\n",
       "      <td>-0.227933</td>\n",
       "      <td>4.387255</td>\n",
       "    </tr>\n",
       "    <tr>\n",
       "      <th>hypertensive disorders of pregnancy</th>\n",
       "      <td>15267.0</td>\n",
       "      <td>1.672319e-15</td>\n",
       "      <td>1.000033</td>\n",
       "      <td>-0.226338</td>\n",
       "      <td>-0.226338</td>\n",
       "      <td>-0.226338</td>\n",
       "      <td>-0.226338</td>\n",
       "      <td>4.418163</td>\n",
       "    </tr>\n",
       "    <tr>\n",
       "      <th>Age</th>\n",
       "      <td>15267.0</td>\n",
       "      <td>-1.826105e-15</td>\n",
       "      <td>1.000033</td>\n",
       "      <td>-0.470178</td>\n",
       "      <td>-0.470178</td>\n",
       "      <td>-0.470178</td>\n",
       "      <td>-0.470178</td>\n",
       "      <td>2.126856</td>\n",
       "    </tr>\n",
       "    <tr>\n",
       "      <th>pre-pregnancy BMI (kg/m2)</th>\n",
       "      <td>15267.0</td>\n",
       "      <td>7.650191e-18</td>\n",
       "      <td>1.000033</td>\n",
       "      <td>-0.613005</td>\n",
       "      <td>-0.613005</td>\n",
       "      <td>-0.613005</td>\n",
       "      <td>0.566124</td>\n",
       "      <td>2.924383</td>\n",
       "    </tr>\n",
       "    <tr>\n",
       "      <th>BMI when labor (kg/m2)</th>\n",
       "      <td>15267.0</td>\n",
       "      <td>-2.122477e-15</td>\n",
       "      <td>1.000033</td>\n",
       "      <td>-1.207006</td>\n",
       "      <td>-0.279750</td>\n",
       "      <td>-0.279750</td>\n",
       "      <td>1.574762</td>\n",
       "      <td>1.574762</td>\n",
       "    </tr>\n",
       "  </tbody>\n",
       "</table>\n",
       "</div>"
      ],
      "text/plain": [
       "                                                      count          mean  \\\n",
       "career                                              15267.0 -5.927034e-15   \n",
       "gravidity times                                     15267.0  6.400308e-17   \n",
       "parity                                              15267.0 -1.855586e-15   \n",
       "weight gain（kg）                                     15267.0 -1.098842e-15   \n",
       "macrosomia history                                  15267.0 -2.116634e-15   \n",
       "spontaneous abortion history                        15267.0 -7.513113e-16   \n",
       "therapeutic induced labor because of stillbirth...  15267.0 -1.241623e-15   \n",
       "educational level                                   15267.0  2.421605e-15   \n",
       "residence                                           15267.0 -7.254766e-15   \n",
       "family history of diabetes mellitus                 15267.0 -7.583982e-15   \n",
       "height（cm）                                          15267.0  4.116457e-15   \n",
       "weight before labor（kg）                             15267.0 -6.865537e-16   \n",
       "GDM history                                         15267.0 -8.971776e-16   \n",
       "GDM                                                 15267.0 -4.544781e-15   \n",
       "twin pregnancy                                      15267.0 -1.401952e-15   \n",
       "chronic hypertension                                15267.0 -1.084205e-15   \n",
       "DM                                                  15267.0  6.794226e-16   \n",
       "Pcos                                                15267.0  2.481132e-15   \n",
       "placenta previa                                     15267.0 -1.551582e-15   \n",
       "scar uterus                                         15267.0 -8.410018e-15   \n",
       "labor ways                                          15267.0  4.131830e-16   \n",
       "IVF                                                 15267.0 -1.898313e-15   \n",
       "uterine myoma                                       15267.0 -1.882041e-16   \n",
       "hypertensive disorders of pregnancy                 15267.0  1.672319e-15   \n",
       "Age                                                 15267.0 -1.826105e-15   \n",
       "pre-pregnancy BMI (kg/m2)                           15267.0  7.650191e-18   \n",
       "BMI when labor (kg/m2)                              15267.0 -2.122477e-15   \n",
       "\n",
       "                                                         std       min  \\\n",
       "career                                              1.000033 -2.072956   \n",
       "gravidity times                                     1.000033 -1.098609   \n",
       "parity                                              1.000033 -0.846721   \n",
       "weight gain（kg）                                     1.000033 -3.711095   \n",
       "macrosomia history                                  1.000033 -0.175068   \n",
       "spontaneous abortion history                        1.000033 -0.373267   \n",
       "therapeutic induced labor because of stillbirth...  1.000033 -0.104526   \n",
       "educational level                                   1.000033 -2.313351   \n",
       "residence                                           1.000033 -1.993636   \n",
       "family history of diabetes mellitus                 1.000033 -0.199966   \n",
       "height（cm）                                          1.000033 -5.020197   \n",
       "weight before labor（kg）                             1.000033 -7.719138   \n",
       "GDM history                                         1.000033 -0.173872   \n",
       "GDM                                                 1.000033 -0.428248   \n",
       "twin pregnancy                                      1.000033 -0.201907   \n",
       "chronic hypertension                                1.000033 -0.105165   \n",
       "DM                                                  1.000033 -0.046543   \n",
       "Pcos                                                1.000033 -0.050607   \n",
       "placenta previa                                     1.000033 -0.189827   \n",
       "scar uterus                                         1.000033 -0.546393   \n",
       "labor ways                                          1.000033 -1.094866   \n",
       "IVF                                                 1.000033 -0.218719   \n",
       "uterine myoma                                       1.000033 -0.227933   \n",
       "hypertensive disorders of pregnancy                 1.000033 -0.226338   \n",
       "Age                                                 1.000033 -0.470178   \n",
       "pre-pregnancy BMI (kg/m2)                           1.000033 -0.613005   \n",
       "BMI when labor (kg/m2)                              1.000033 -1.207006   \n",
       "\n",
       "                                                         25%       50%  \\\n",
       "career                                              0.099017  0.099017   \n",
       "gravidity times                                    -1.098609  0.109347   \n",
       "parity                                             -0.846721 -0.846721   \n",
       "weight gain（kg）                                    -0.803845 -0.132942   \n",
       "macrosomia history                                 -0.175068 -0.175068   \n",
       "spontaneous abortion history                       -0.373267 -0.373267   \n",
       "therapeutic induced labor because of stillbirth... -0.104526 -0.104526   \n",
       "educational level                                  -0.873859  0.565632   \n",
       "residence                                           0.501596  0.501596   \n",
       "family history of diabetes mellitus                -0.199966 -0.199966   \n",
       "height（cm）                                         -0.566259 -0.142074   \n",
       "weight before labor（kg）                            -0.676591 -0.108643   \n",
       "GDM history                                        -0.173872 -0.173872   \n",
       "GDM                                                -0.428248 -0.428248   \n",
       "twin pregnancy                                     -0.201907 -0.201907   \n",
       "chronic hypertension                               -0.105165 -0.105165   \n",
       "DM                                                 -0.046543 -0.046543   \n",
       "Pcos                                               -0.050607 -0.050607   \n",
       "placenta previa                                    -0.189827 -0.189827   \n",
       "scar uterus                                        -0.546393 -0.546393   \n",
       "labor ways                                         -1.094866  0.955087   \n",
       "IVF                                                -0.218719 -0.218719   \n",
       "uterine myoma                                      -0.227933 -0.227933   \n",
       "hypertensive disorders of pregnancy                -0.226338 -0.226338   \n",
       "Age                                                -0.470178 -0.470178   \n",
       "pre-pregnancy BMI (kg/m2)                          -0.613005 -0.613005   \n",
       "BMI when labor (kg/m2)                             -0.279750 -0.279750   \n",
       "\n",
       "                                                         75%        max  \n",
       "career                                              0.099017   4.442963  \n",
       "gravidity times                                     1.317302   1.317302  \n",
       "parity                                              1.181026   1.181026  \n",
       "weight gain（kg）                                     0.426145  28.268651  \n",
       "macrosomia history                                 -0.175068   5.712071  \n",
       "spontaneous abortion history                       -0.373267   2.679046  \n",
       "therapeutic induced labor because of stillbirth... -0.104526   9.566989  \n",
       "educational level                                   0.565632   0.565632  \n",
       "residence                                           0.501596   0.501596  \n",
       "family history of diabetes mellitus                -0.199966   5.000852  \n",
       "height（cm）                                          0.706295   4.311864  \n",
       "weight before labor（kg）                             0.572894  11.591072  \n",
       "GDM history                                        -0.173872   5.751359  \n",
       "GDM                                                -0.428248   2.335094  \n",
       "twin pregnancy                                     -0.201907   4.952787  \n",
       "chronic hypertension                               -0.105165   9.508899  \n",
       "DM                                                 -0.046543  21.485725  \n",
       "Pcos                                               -0.050607  19.760100  \n",
       "placenta previa                                    -0.189827   5.267961  \n",
       "scar uterus                                        -0.546393   1.830184  \n",
       "labor ways                                          0.955087   0.955087  \n",
       "IVF                                                -0.218719   4.572075  \n",
       "uterine myoma                                      -0.227933   4.387255  \n",
       "hypertensive disorders of pregnancy                -0.226338   4.418163  \n",
       "Age                                                -0.470178   2.126856  \n",
       "pre-pregnancy BMI (kg/m2)                           0.566124   2.924383  \n",
       "BMI when labor (kg/m2)                              1.574762   1.574762  "
      ]
     },
     "execution_count": 95,
     "metadata": {},
     "output_type": "execute_result"
    }
   ],
   "source": [
    "col_names=list(X.columns)\n",
    "s_sclaler=StandardScaler()\n",
    "X_scaled=s_sclaler.fit_transform(X)\n",
    "X_scaled=pd.DataFrame(X_scaled,columns=col_names)\n",
    "X_scaled.describe().T"
   ]
  },
  {
   "cell_type": "markdown",
   "id": "87fbcde5",
   "metadata": {},
   "source": [
    "## MODEL BUILDING"
   ]
  },
  {
   "cell_type": "markdown",
   "id": "73cadf9b",
   "metadata": {},
   "source": [
    "## Splitting Train & Test Set"
   ]
  },
  {
   "cell_type": "code",
   "execution_count": 96,
   "id": "ae3d5934",
   "metadata": {},
   "outputs": [],
   "source": [
    "X_train,X_test,y_train,y_test=train_test_split(X,y,test_size=0.20,random_state=25)"
   ]
  },
  {
   "cell_type": "markdown",
   "id": "3def26f8",
   "metadata": {},
   "source": [
    "# Model Selection\n",
    "## Building pipelines of model for various classifiers\n"
   ]
  },
  {
   "cell_type": "code",
   "execution_count": 98,
   "id": "12b2e5f1",
   "metadata": {},
   "outputs": [],
   "source": [
    "pipeline_lr=Pipeline([('lr_classifier',LogisticRegression())])\n",
    "pipeline_dt=Pipeline([('dt_classifir',DecisionTreeClassifier())])\n",
    "pipeline_gbcl=Pipeline([('gbcl_classifier',GradientBoostingClassifier())])\n",
    "pipeline_rf=Pipeline([('rf_classifier',RandomForestClassifier())])\n",
    "pipeline_knn = Pipeline([('knn_classifier',KNeighborsClassifier())])"
   ]
  },
  {
   "cell_type": "code",
   "execution_count": 99,
   "id": "a8f62778",
   "metadata": {},
   "outputs": [],
   "source": [
    "#list of all pipelines\n",
    "pipelines=[pipeline_lr,pipeline_dt,pipeline_gbcl,pipeline_rf,pipeline_knn]"
   ]
  },
  {
   "cell_type": "code",
   "execution_count": 100,
   "id": "6eb97aa7",
   "metadata": {},
   "outputs": [],
   "source": [
    "# Dictionary of pipelines and classifier types for ease of reference\n",
    "pipe_dict={0:'Logistic Regression',1:'Decision Tree',2: 'Gradient Boost',3:'RandomForest', 4: 'KNN'}"
   ]
  },
  {
   "cell_type": "code",
   "execution_count": 102,
   "id": "69fec681",
   "metadata": {},
   "outputs": [
    {
     "name": "stderr",
     "output_type": "stream",
     "text": [
      "C:\\Users\\hii\\anaconda3\\lib\\site-packages\\sklearn\\linear_model\\_logistic.py:444: ConvergenceWarning: lbfgs failed to converge (status=1):\n",
      "STOP: TOTAL NO. of ITERATIONS REACHED LIMIT.\n",
      "\n",
      "Increase the number of iterations (max_iter) or scale the data as shown in:\n",
      "    https://scikit-learn.org/stable/modules/preprocessing.html\n",
      "Please also refer to the documentation for alternative solver options:\n",
      "    https://scikit-learn.org/stable/modules/linear_model.html#logistic-regression\n",
      "  n_iter_i = _check_optimize_result(\n"
     ]
    }
   ],
   "source": [
    "# Fitting the pipelines\n",
    "for pipe in pipelines:\n",
    "    pipe.fit(X_train,y_train)"
   ]
  },
  {
   "cell_type": "code",
   "execution_count": 103,
   "id": "74991210",
   "metadata": {},
   "outputs": [
    {
     "name": "stderr",
     "output_type": "stream",
     "text": [
      "C:\\Users\\hii\\anaconda3\\lib\\site-packages\\sklearn\\linear_model\\_logistic.py:444: ConvergenceWarning: lbfgs failed to converge (status=1):\n",
      "STOP: TOTAL NO. of ITERATIONS REACHED LIMIT.\n",
      "\n",
      "Increase the number of iterations (max_iter) or scale the data as shown in:\n",
      "    https://scikit-learn.org/stable/modules/preprocessing.html\n",
      "Please also refer to the documentation for alternative solver options:\n",
      "    https://scikit-learn.org/stable/modules/linear_model.html#logistic-regression\n",
      "  n_iter_i = _check_optimize_result(\n",
      "C:\\Users\\hii\\anaconda3\\lib\\site-packages\\sklearn\\linear_model\\_logistic.py:444: ConvergenceWarning: lbfgs failed to converge (status=1):\n",
      "STOP: TOTAL NO. of ITERATIONS REACHED LIMIT.\n",
      "\n",
      "Increase the number of iterations (max_iter) or scale the data as shown in:\n",
      "    https://scikit-learn.org/stable/modules/preprocessing.html\n",
      "Please also refer to the documentation for alternative solver options:\n",
      "    https://scikit-learn.org/stable/modules/linear_model.html#logistic-regression\n",
      "  n_iter_i = _check_optimize_result(\n",
      "C:\\Users\\hii\\anaconda3\\lib\\site-packages\\sklearn\\linear_model\\_logistic.py:444: ConvergenceWarning: lbfgs failed to converge (status=1):\n",
      "STOP: TOTAL NO. of ITERATIONS REACHED LIMIT.\n",
      "\n",
      "Increase the number of iterations (max_iter) or scale the data as shown in:\n",
      "    https://scikit-learn.org/stable/modules/preprocessing.html\n",
      "Please also refer to the documentation for alternative solver options:\n",
      "    https://scikit-learn.org/stable/modules/linear_model.html#logistic-regression\n",
      "  n_iter_i = _check_optimize_result(\n",
      "C:\\Users\\hii\\anaconda3\\lib\\site-packages\\sklearn\\linear_model\\_logistic.py:444: ConvergenceWarning: lbfgs failed to converge (status=1):\n",
      "STOP: TOTAL NO. of ITERATIONS REACHED LIMIT.\n",
      "\n",
      "Increase the number of iterations (max_iter) or scale the data as shown in:\n",
      "    https://scikit-learn.org/stable/modules/preprocessing.html\n",
      "Please also refer to the documentation for alternative solver options:\n",
      "    https://scikit-learn.org/stable/modules/linear_model.html#logistic-regression\n",
      "  n_iter_i = _check_optimize_result(\n",
      "C:\\Users\\hii\\anaconda3\\lib\\site-packages\\sklearn\\linear_model\\_logistic.py:444: ConvergenceWarning: lbfgs failed to converge (status=1):\n",
      "STOP: TOTAL NO. of ITERATIONS REACHED LIMIT.\n",
      "\n",
      "Increase the number of iterations (max_iter) or scale the data as shown in:\n",
      "    https://scikit-learn.org/stable/modules/preprocessing.html\n",
      "Please also refer to the documentation for alternative solver options:\n",
      "    https://scikit-learn.org/stable/modules/linear_model.html#logistic-regression\n",
      "  n_iter_i = _check_optimize_result(\n",
      "C:\\Users\\hii\\anaconda3\\lib\\site-packages\\sklearn\\linear_model\\_logistic.py:444: ConvergenceWarning: lbfgs failed to converge (status=1):\n",
      "STOP: TOTAL NO. of ITERATIONS REACHED LIMIT.\n",
      "\n",
      "Increase the number of iterations (max_iter) or scale the data as shown in:\n",
      "    https://scikit-learn.org/stable/modules/preprocessing.html\n",
      "Please also refer to the documentation for alternative solver options:\n",
      "    https://scikit-learn.org/stable/modules/linear_model.html#logistic-regression\n",
      "  n_iter_i = _check_optimize_result(\n",
      "C:\\Users\\hii\\anaconda3\\lib\\site-packages\\sklearn\\linear_model\\_logistic.py:444: ConvergenceWarning: lbfgs failed to converge (status=1):\n",
      "STOP: TOTAL NO. of ITERATIONS REACHED LIMIT.\n",
      "\n",
      "Increase the number of iterations (max_iter) or scale the data as shown in:\n",
      "    https://scikit-learn.org/stable/modules/preprocessing.html\n",
      "Please also refer to the documentation for alternative solver options:\n",
      "    https://scikit-learn.org/stable/modules/linear_model.html#logistic-regression\n",
      "  n_iter_i = _check_optimize_result(\n",
      "C:\\Users\\hii\\anaconda3\\lib\\site-packages\\sklearn\\linear_model\\_logistic.py:444: ConvergenceWarning: lbfgs failed to converge (status=1):\n",
      "STOP: TOTAL NO. of ITERATIONS REACHED LIMIT.\n",
      "\n",
      "Increase the number of iterations (max_iter) or scale the data as shown in:\n",
      "    https://scikit-learn.org/stable/modules/preprocessing.html\n",
      "Please also refer to the documentation for alternative solver options:\n",
      "    https://scikit-learn.org/stable/modules/linear_model.html#logistic-regression\n",
      "  n_iter_i = _check_optimize_result(\n",
      "C:\\Users\\hii\\anaconda3\\lib\\site-packages\\sklearn\\linear_model\\_logistic.py:444: ConvergenceWarning: lbfgs failed to converge (status=1):\n",
      "STOP: TOTAL NO. of ITERATIONS REACHED LIMIT.\n",
      "\n",
      "Increase the number of iterations (max_iter) or scale the data as shown in:\n",
      "    https://scikit-learn.org/stable/modules/preprocessing.html\n",
      "Please also refer to the documentation for alternative solver options:\n",
      "    https://scikit-learn.org/stable/modules/linear_model.html#logistic-regression\n",
      "  n_iter_i = _check_optimize_result(\n",
      "C:\\Users\\hii\\anaconda3\\lib\\site-packages\\sklearn\\linear_model\\_logistic.py:444: ConvergenceWarning: lbfgs failed to converge (status=1):\n",
      "STOP: TOTAL NO. of ITERATIONS REACHED LIMIT.\n",
      "\n",
      "Increase the number of iterations (max_iter) or scale the data as shown in:\n",
      "    https://scikit-learn.org/stable/modules/preprocessing.html\n",
      "Please also refer to the documentation for alternative solver options:\n",
      "    https://scikit-learn.org/stable/modules/linear_model.html#logistic-regression\n",
      "  n_iter_i = _check_optimize_result(\n",
      "C:\\Users\\hii\\anaconda3\\lib\\site-packages\\sklearn\\linear_model\\_logistic.py:444: ConvergenceWarning: lbfgs failed to converge (status=1):\n",
      "STOP: TOTAL NO. of ITERATIONS REACHED LIMIT.\n",
      "\n",
      "Increase the number of iterations (max_iter) or scale the data as shown in:\n",
      "    https://scikit-learn.org/stable/modules/preprocessing.html\n",
      "Please also refer to the documentation for alternative solver options:\n",
      "    https://scikit-learn.org/stable/modules/linear_model.html#logistic-regression\n",
      "  n_iter_i = _check_optimize_result(\n",
      "C:\\Users\\hii\\anaconda3\\lib\\site-packages\\sklearn\\linear_model\\_logistic.py:444: ConvergenceWarning: lbfgs failed to converge (status=1):\n",
      "STOP: TOTAL NO. of ITERATIONS REACHED LIMIT.\n",
      "\n",
      "Increase the number of iterations (max_iter) or scale the data as shown in:\n",
      "    https://scikit-learn.org/stable/modules/preprocessing.html\n",
      "Please also refer to the documentation for alternative solver options:\n",
      "    https://scikit-learn.org/stable/modules/linear_model.html#logistic-regression\n",
      "  n_iter_i = _check_optimize_result(\n"
     ]
    },
    {
     "name": "stdout",
     "output_type": "stream",
     "text": [
      "Logistic Regression: 0.914845\n",
      "Decision Tree: 0.855070\n",
      "Gradient Boost: 0.916646\n",
      "RandomForest: 0.911487\n",
      "KNN: 0.902317\n"
     ]
    }
   ],
   "source": [
    "cv_result_accuracy=[]\n",
    "for i,model in enumerate(pipelines):\n",
    "    cv_score=cross_val_score(model,X_train,y_train,cv=12)\n",
    "    cv_result_accuracy.append(cv_score)\n",
    "    print(\"%s: %f\" %(pipe_dict[i],cv_score.mean()))"
   ]
  },
  {
   "cell_type": "markdown",
   "id": "81a7465a",
   "metadata": {},
   "source": [
    "### Gradient Boost among the five models performs best with our data so we shall proceed with it."
   ]
  },
  {
   "cell_type": "code",
   "execution_count": 105,
   "id": "876e0d8c",
   "metadata": {},
   "outputs": [],
   "source": [
    "# Baseline model of gradient boosting classifier with default parameters:"
   ]
  },
  {
   "cell_type": "code",
   "execution_count": 106,
   "id": "7ae36916",
   "metadata": {},
   "outputs": [
    {
     "name": "stdout",
     "output_type": "stream",
     "text": [
      "Baseline Gradient Boosting Classifier Score:0.92\n"
     ]
    }
   ],
   "source": [
    "gbcl = GradientBoostingClassifier()\n",
    "gbcl_model = gbcl.fit(X_train, y_train)\n",
    "print(f\"Baseline Gradient Boosting Classifier Score:{round(gbcl_model.score(X_test, y_test), 2)}\")\n",
    "pred_gbcl = gbcl_model.predict(X_test)"
   ]
  },
  {
   "cell_type": "code",
   "execution_count": 107,
   "id": "0fb2f0c7",
   "metadata": {},
   "outputs": [
    {
     "name": "stdout",
     "output_type": "stream",
     "text": [
      "CV scores for Gradient Boosting Classifier model:\n",
      "[0.91683039 0.91748527 0.90962672 0.91421087 0.92075966 0.92005242\n",
      " 0.91612058 0.9180865 ]\n",
      "CV Mean score: 0.92\n"
     ]
    }
   ],
   "source": [
    "# Cross validate Gradient Boosting Classifier model\n",
    "scores_gbcl = cross_val_score(gbcl, X_train, y_train, cv = 8, n_jobs = 2, scoring = \"accuracy\")\n",
    "\n",
    "print(f\"CV scores for Gradient Boosting Classifier model:\\n{scores_gbcl}\")\n",
    "print(f\"CV Mean score: {round(scores_gbcl.mean(), 2)}\")"
   ]
  },
  {
   "cell_type": "markdown",
   "id": "26bc87da",
   "metadata": {},
   "source": [
    "## lets grid search gradiant boosting"
   ]
  },
  {
   "cell_type": "code",
   "execution_count": 109,
   "id": "6eec7563",
   "metadata": {},
   "outputs": [],
   "source": [
    "parameters = {\"loss\": [\"deviance\"],\n",
    "              \"learning_rate\": [0.05, 0.075, 0.1, 0.25, 0.5, 0.75, 1], \n",
    "              \"n_estimators\": [200, 350, 500, 750],\n",
    "              \"max_depth\": [3, 6, 8]\n",
    "              }"
   ]
  },
  {
   "cell_type": "code",
   "execution_count": 110,
   "id": "538ffc2f",
   "metadata": {},
   "outputs": [],
   "source": [
    "GridSearchCV_gbcl = GridSearchCV(estimator=GradientBoostingClassifier(), \n",
    "                                param_grid=parameters, \n",
    "                                cv=2,\n",
    "                                verbose=1, \n",
    "                                n_jobs=3,\n",
    "                                scoring=\"accuracy\", \n",
    "                                return_train_score=True\n",
    "                                )"
   ]
  },
  {
   "cell_type": "code",
   "execution_count": 112,
   "id": "40a28e68",
   "metadata": {},
   "outputs": [
    {
     "name": "stdout",
     "output_type": "stream",
     "text": [
      "Fitting 2 folds for each of 84 candidates, totalling 168 fits\n"
     ]
    },
    {
     "name": "stderr",
     "output_type": "stream",
     "text": [
      "C:\\Users\\hii\\anaconda3\\lib\\site-packages\\sklearn\\ensemble\\_gb.py:310: FutureWarning: The loss parameter name 'deviance' was deprecated in v1.1 and will be removed in version 1.3. Use the new parameter name 'log_loss' which is equivalent.\n",
      "  warnings.warn(\n"
     ]
    }
   ],
   "source": [
    "GridSearchCV_gbcl.fit(X_train, y_train);"
   ]
  },
  {
   "cell_type": "code",
   "execution_count": 113,
   "id": "a08aff84",
   "metadata": {},
   "outputs": [
    {
     "name": "stdout",
     "output_type": "stream",
     "text": [
      "Best parameters for the model:\n",
      "{'learning_rate': 0.05, 'loss': 'deviance', 'max_depth': 3, 'n_estimators': 200}\n"
     ]
    }
   ],
   "source": [
    "best_parameters = GridSearchCV_gbcl.best_params_\n",
    "print(f\"Best parameters for the model:\\n{best_parameters}\")"
   ]
  },
  {
   "cell_type": "markdown",
   "id": "e29b2d59",
   "metadata": {},
   "source": [
    "# Testing stage"
   ]
  },
  {
   "cell_type": "code",
   "execution_count": 114,
   "id": "b5c96b41",
   "metadata": {},
   "outputs": [],
   "source": [
    "# Testing with the best parameters, \n",
    "\n",
    "gbcl = GradientBoostingClassifier(criterion=\"friedman_mse\", learning_rate=0.1, loss=\"deviance\", \n",
    "                                  max_depth=6, max_features=\"log2\", min_samples_leaf=0.3, \n",
    "                                  min_samples_split=0.5, n_estimators=500, random_state=25)\n"
   ]
  },
  {
   "cell_type": "code",
   "execution_count": 115,
   "id": "243f0a48",
   "metadata": {},
   "outputs": [
    {
     "name": "stderr",
     "output_type": "stream",
     "text": [
      "C:\\Users\\hii\\anaconda3\\lib\\site-packages\\sklearn\\ensemble\\_gb.py:310: FutureWarning: The loss parameter name 'deviance' was deprecated in v1.1 and will be removed in version 1.3. Use the new parameter name 'log_loss' which is equivalent.\n",
      "  warnings.warn(\n"
     ]
    }
   ],
   "source": [
    "gbcl_mod = gbcl.fit(X_train, y_train)\n",
    "pred_gbcl = gbcl_mod.predict(X_test)\n",
    "\n",
    "score_gbcl_train = gbcl_mod.score(X_train, y_train)\n",
    "score_gbcl_test = gbcl_mod.score(X_test, y_test)"
   ]
  },
  {
   "cell_type": "code",
   "execution_count": 116,
   "id": "e52136a5",
   "metadata": {},
   "outputs": [
    {
     "name": "stdout",
     "output_type": "stream",
     "text": [
      "r^2(coefficient of determination) on training set = 0.908\n",
      "r^2(coefficient of determination) on testing set = 0.91\n"
     ]
    }
   ],
   "source": [
    "print(f\"r^2(coefficient of determination) on training set = {round(score_gbcl_train, 3)}\")\n",
    "print(f\"r^2(coefficient of determination) on testing set = {round(score_gbcl_test, 3)}\")"
   ]
  },
  {
   "cell_type": "code",
   "execution_count": 117,
   "id": "0d75c687",
   "metadata": {},
   "outputs": [
    {
     "name": "stdout",
     "output_type": "stream",
     "text": [
      " Testing Score of the model is 0.9161755075311068\n"
     ]
    }
   ],
   "source": [
    "# Getting score on the Test set, \n",
    "\n",
    "pred_gbcl = pipeline_gbcl.predict(X_test)\n",
    "accuracy = accuracy_score(y_test, pred_gbcl)\n",
    "print(f\" Testing Score of the model is {accuracy}\")"
   ]
  },
  {
   "cell_type": "code",
   "execution_count": 118,
   "id": "6f20ab62",
   "metadata": {},
   "outputs": [
    {
     "name": "stdout",
     "output_type": "stream",
     "text": [
      "              precision    recall  f1-score   support\n",
      "\n",
      "           0       0.93      0.98      0.96      2780\n",
      "           1       0.59      0.22      0.32       274\n",
      "\n",
      "    accuracy                           0.92      3054\n",
      "   macro avg       0.76      0.60      0.64      3054\n",
      "weighted avg       0.90      0.92      0.90      3054\n",
      "\n"
     ]
    }
   ],
   "source": [
    "# Getting the Classification report \n",
    "print(classification_report(y_test, pred_gbcl))"
   ]
  },
  {
   "cell_type": "code",
   "execution_count": 119,
   "id": "5e01fcc7",
   "metadata": {},
   "outputs": [
    {
     "data": {
      "image/png": "[encoded data removed]",
      "text/plain": [
       "<Figure size 864x576 with 2 Axes>"
      ]
     },
     "metadata": {
      "needs_background": "light"
     },
     "output_type": "display_data"
    }
   ],
   "source": [
    "# Getting the Confusion matrix\n",
    "plt.subplots(figsize=(12,8))\n",
    "cf_matrix = confusion_matrix(y_test, pred_gbcl)\n",
    "sns.heatmap(cf_matrix/np.sum(cf_matrix), cmap='viridis',annot = True, annot_kws = {'size':20})\n",
    "plt.show()"
   ]
  },
  {
   "cell_type": "code",
   "execution_count": 121,
   "id": "5c8c7082",
   "metadata": {},
   "outputs": [],
   "source": [
    "#from tensorflow import keras\n",
    "\n",
    "# 'learning_rate': 0.05, 'loss': 'deviance', 'max_depth': 3, 'n_estimators': 200"
   ]
  },
  {
   "cell_type": "code",
   "execution_count": 124,
   "id": "6f9bbc5c",
   "metadata": {},
   "outputs": [
    {
     "name": "stderr",
     "output_type": "stream",
     "text": [
      "C:\\Users\\hii\\anaconda3\\lib\\site-packages\\sklearn\\ensemble\\_gb.py:310: FutureWarning: The loss parameter name 'deviance' was deprecated in v1.1 and will be removed in version 1.3. Use the new parameter name 'log_loss' which is equivalent.\n",
      "  warnings.warn(\n"
     ]
    },
    {
     "name": "stdout",
     "output_type": "stream",
     "text": [
      "r^2(coefficient of determination) on training set = 0.908\n",
      "r^2(coefficient of determination) on testing set = 0.91\n"
     ]
    }
   ],
   "source": [
    "# using best parameters\n",
    "\n",
    "\n",
    "gbcl_1 = GradientBoostingClassifier(criterion=\"friedman_mse\", learning_rate=0.05, loss=\"deviance\", \n",
    "                                  max_depth=3, max_features=\"log2\", min_samples_leaf=0.3, \n",
    "                                  min_samples_split=0.2, n_estimators=200, random_state=20)\n",
    "gbcl_mod_1 = gbcl_1.fit(X_train, y_train)\n",
    "pred_gbcl_1 = gbcl_mod_1.predict(X_test)\n",
    "\n",
    "score_gbcl_train_1 = gbcl_mod_1.score(X_train, y_train)\n",
    "score_gbcl_test_1 = gbcl_mod_1.score(X_test, y_test)\n",
    "print(f\"r^2(coefficient of determination) on training set = {round(score_gbcl_train_1, 3)}\")\n",
    "print(f\"r^2(coefficient of determination) on testing set = {round(score_gbcl_test_1, 3)}\")"
   ]
  },
  {
   "cell_type": "code",
   "execution_count": 125,
   "id": "e4cb15ff",
   "metadata": {},
   "outputs": [
    {
     "name": "stdout",
     "output_type": "stream",
     "text": [
      " Testing Score of the model is 0.9161755075311068\n"
     ]
    }
   ],
   "source": [
    "pred_gbcl_1 = pipeline_gbcl.predict(X_test)\n",
    "accuracy = accuracy_score(y_test, pred_gbcl_1)\n",
    "print(f\" Testing Score of the model is {accuracy}\")"
   ]
  },
  {
   "cell_type": "code",
   "execution_count": null,
   "id": "c6c06e33",
   "metadata": {},
   "outputs": [],
   "source": []
  },
  {
   "cell_type": "code",
   "execution_count": 133,
   "id": "c0fb56ed",
   "metadata": {},
   "outputs": [
    {
     "data": {
      "text/plain": [
       "[2.0,\n",
       " 2.0,\n",
       " 1.0,\n",
       " 11.0,\n",
       " 0.0,\n",
       " 0.0,\n",
       " 0.0,\n",
       " 0.0,\n",
       " 1.0,\n",
       " 0.0,\n",
       " 160.0,\n",
       " 68.0,\n",
       " 0.0,\n",
       " 0.0,\n",
       " 0.0,\n",
       " 0.0,\n",
       " 0.0,\n",
       " 0.0,\n",
       " 0.0,\n",
       " 1.0,\n",
       " 0.0,\n",
       " 0.0,\n",
       " 0.0,\n",
       " 0.0,\n",
       " 1.0,\n",
       " 0.0,\n",
       " 1.0]"
      ]
     },
     "execution_count": 133,
     "metadata": {},
     "output_type": "execute_result"
    }
   ],
   "source": [
    "a=X_train.iloc[1].tolist()\n",
    "a"
   ]
  },
  {
   "cell_type": "code",
   "execution_count": 136,
   "id": "ebd62d2a",
   "metadata": {},
   "outputs": [],
   "source": [
    "new_input =[\"2.0\",\n",
    " \"2.0\",\n",
    " \"1.0\",\n",
    " \"11.0\",\n",
    " \"0.0\",\n",
    " \"0.0\",\n",
    " \"0.0\",\n",
    " \"0.0\",\n",
    " \"1.0\",\n",
    " \"0.0\",\n",
    " \"160.0\",\n",
    " \"68.0\",\n",
    " \"0.0\",\n",
    " \"0.0\",\n",
    " \"0.0\",\n",
    " \"0.0\",\n",
    " \"0.0\",\n",
    " \"0.0\",\n",
    " \"0.0\",\n",
    " \"1.0\",\n",
    " \"0.0\",\n",
    " \"0.0\",\n",
    " \"0.0\",\n",
    " \"0.0\",\n",
    " \"1.0\",\n",
    " \"0.0\",\n",
    " \"1.0\"]"
   ]
  },
  {
   "cell_type": "code",
   "execution_count": 141,
   "id": "d1123429",
   "metadata": {},
   "outputs": [],
   "source": [
    "test_input_1 = np.array(new_input)"
   ]
  },
  {
   "cell_type": "code",
   "execution_count": 145,
   "id": "ff765feb",
   "metadata": {},
   "outputs": [
    {
     "name": "stderr",
     "output_type": "stream",
     "text": [
      "C:\\Users\\hii\\anaconda3\\lib\\site-packages\\sklearn\\base.py:450: UserWarning: X does not have valid feature names, but GradientBoostingClassifier was fitted with feature names\n",
      "  warnings.warn(\n"
     ]
    }
   ],
   "source": [
    "test1 = gbcl_mod_1.predict(test_input_1.reshape(1,-1))"
   ]
  },
  {
   "cell_type": "code",
   "execution_count": 146,
   "id": "91d9a3c3",
   "metadata": {},
   "outputs": [
    {
     "data": {
      "text/plain": [
       "array([0])"
      ]
     },
     "execution_count": 146,
     "metadata": {},
     "output_type": "execute_result"
    }
   ],
   "source": [
    "test1"
   ]
  },
  {
   "cell_type": "code",
   "execution_count": 147,
   "id": "d4c1c82a",
   "metadata": {},
   "outputs": [],
   "source": [
    "import pickle\n",
    "import joblib"
   ]
  },
  {
   "cell_type": "code",
   "execution_count": 148,
   "id": "e4dc812f",
   "metadata": {},
   "outputs": [
    {
     "name": "stdout",
     "output_type": "stream",
     "text": [
      "Gradiant Bosting Model saved \n"
     ]
    }
   ],
   "source": [
    "joblib.dump(gbcl_mod_1,'gbcl_model1.pkl')\n",
    "print(\"Gradiant Bosting Model saved \")"
   ]
  },
  {
   "cell_type": "code",
   "execution_count": null,
   "id": "8712e8a2",
   "metadata": {},
   "outputs": [],
   "source": []
  }
 ],
 "metadata": {
  "kernelspec": {
   "display_name": "Python 3 (ipykernel)",
   "language": "python",
   "name": "python3"
  },
  "language_info": {
   "codemirror_mode": {
    "name": "ipython",
    "version": 3
   },
   "file_extension": ".py",
   "mimetype": "text/x-python",
   "name": "python",
   "nbconvert_exporter": "python",
   "pygments_lexer": "ipython3",
   "version": "3.9.7"
  }
 },
 "nbformat": 4,
 "nbformat_minor": 5
}
